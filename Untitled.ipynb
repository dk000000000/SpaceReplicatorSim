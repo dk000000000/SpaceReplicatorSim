{
 "cells": [
  {
   "cell_type": "code",
   "execution_count": 1,
   "metadata": {},
   "outputs": [],
   "source": [
    "import numpy as np\n",
    "def generateDiskGalaxy(galaxySize,maxcharge):\n",
    "    positions = generateDisk(galaxySize)\n",
    "    charges = generateCharge(positions,maxcharge)\n",
    "    return positions,charges\n",
    "\n",
    "def generateCharge(positions,maxcharge):\n",
    "    origins = np.zeros_like(positions)\n",
    "    distances = np.linalg.norm(positions-origins,axis=1) #calculate distance to the origin\n",
    "    charges = [maxcharge*np.random.normal(d) for d in distances] # more close more likely to have a high charge\n",
    "    return charges\n",
    "\n",
    "\n",
    "def generateDisk(galaxySize):\n",
    "    length = np.sqrt(np.random.uniform(0, 1, galaxySize))\n",
    "    angle = np.pi * np.random.uniform(0, 2,galaxySize)\n",
    "    x = length * np.cos(angle)\n",
    "    y = length * np.sin(angle)\n",
    "    z = np.random.uniform(-1, 1, galaxySize)\n",
    "    return list(zip(x,y,z))\n"
   ]
  },
  {
   "cell_type": "code",
   "execution_count": 2,
   "metadata": {},
   "outputs": [],
   "source": [
    "a,b = generateDiskGalaxy(10,10)"
   ]
  },
  {
   "cell_type": "code",
   "execution_count": 3,
   "metadata": {},
   "outputs": [
    {
     "data": {
      "text/plain": [
       "[5.285291680758318,\n",
       " 16.802827143357753,\n",
       " 2.6814246409191043,\n",
       " 18.2176385278721,\n",
       " 16.982587638792626,\n",
       " 0.03798721856623555,\n",
       " 15.072700307195328,\n",
       " 11.579920762678814,\n",
       " 16.953534492829775,\n",
       " 4.701397717216102]"
      ]
     },
     "execution_count": 3,
     "metadata": {},
     "output_type": "execute_result"
    }
   ],
   "source": [
    "b"
   ]
  },
  {
   "cell_type": "code",
   "execution_count": 4,
   "metadata": {},
   "outputs": [
    {
     "data": {
      "text/plain": [
       "array([0.95225161, 0.36041513, 0.70902216, 0.43909442, 0.91440231,\n",
       "       1.21094912, 1.17540559, 0.82630645, 0.85539027, 0.63700107])"
      ]
     },
     "execution_count": 4,
     "metadata": {},
     "output_type": "execute_result"
    }
   ],
   "source": [
    "np.linalg.norm(np.zeros_like(generateDisk(10))-generateDisk(10),axis=1)"
   ]
  },
  {
   "cell_type": "code",
   "execution_count": 5,
   "metadata": {},
   "outputs": [
    {
     "ename": "SyntaxError",
     "evalue": "invalid syntax (Probe.py, line 67)",
     "output_type": "error",
     "traceback": [
      "Traceback \u001b[0;36m(most recent call last)\u001b[0m:\n",
      "  File \u001b[1;32m\"/Users/jiemingji/anaconda3/lib/python3.6/site-packages/IPython/core/interactiveshell.py\"\u001b[0m, line \u001b[1;32m3296\u001b[0m, in \u001b[1;35mrun_code\u001b[0m\n    exec(code_obj, self.user_global_ns, self.user_ns)\n",
      "  File \u001b[1;32m\"<ipython-input-5-2eccec55c5f1>\"\u001b[0m, line \u001b[1;32m1\u001b[0m, in \u001b[1;35m<module>\u001b[0m\n    from Galaxy import Galaxy\n",
      "\u001b[0;36m  File \u001b[0;32m\"/Users/jiemingji/von-neumann-probe-simulation/Galaxy.py\"\u001b[0;36m, line \u001b[0;32m1\u001b[0;36m, in \u001b[0;35m<module>\u001b[0;36m\u001b[0m\n\u001b[0;31m    from Probe import Probe\u001b[0m\n",
      "\u001b[0;36m  File \u001b[0;32m\"/Users/jiemingji/von-neumann-probe-simulation/Probe.py\"\u001b[0;36m, line \u001b[0;32m67\u001b[0m\n\u001b[0;31m    self.system.\u001b[0m\n\u001b[0m                ^\u001b[0m\n\u001b[0;31mSyntaxError\u001b[0m\u001b[0;31m:\u001b[0m invalid syntax\n"
     ]
    }
   ],
   "source": [
    "from Galaxy import Galaxy"
   ]
  },
  {
   "cell_type": "code",
   "execution_count": null,
   "metadata": {},
   "outputs": [],
   "source": [
    "a = Galaxy()"
   ]
  },
  {
   "cell_type": "code",
   "execution_count": null,
   "metadata": {},
   "outputs": [],
   "source": [
    "a.step({\"0\":[\"stay\",0]})"
   ]
  },
  {
   "cell_type": "code",
   "execution_count": null,
   "metadata": {},
   "outputs": [],
   "source": [
    "System.System()"
   ]
  },
  {
   "cell_type": "code",
   "execution_count": null,
   "metadata": {},
   "outputs": [],
   "source": []
  }
 ],
 "metadata": {
  "kernelspec": {
   "display_name": "Python 3",
   "language": "python",
   "name": "python3"
  },
  "language_info": {
   "codemirror_mode": {
    "name": "ipython",
    "version": 3
   },
   "file_extension": ".py",
   "mimetype": "text/x-python",
   "name": "python",
   "nbconvert_exporter": "python",
   "pygments_lexer": "ipython3",
   "version": "3.6.5"
  }
 },
 "nbformat": 4,
 "nbformat_minor": 2
}
