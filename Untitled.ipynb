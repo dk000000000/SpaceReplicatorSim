{
 "cells": [
  {
   "cell_type": "code",
   "execution_count": 1,
   "metadata": {},
   "outputs": [],
   "source": [
    "import numpy as np\n",
    "def generateDiskGalaxy(galaxySize,maxcharge):\n",
    "    positions = generateDisk(galaxySize)\n",
    "    charges = generateCharge(positions,maxcharge)\n",
    "    return positions,charges\n",
    "\n",
    "def generateCharge(positions,maxcharge):\n",
    "    origins = np.zeros_like(positions)\n",
    "    distances = np.linalg.norm(positions-origins,axis=1) #calculate distance to the origin\n",
    "    charges = [maxcharge*np.random.normal(d) for d in distances] # more close more likely to have a high charge\n",
    "    return charges\n",
    "\n",
    "\n",
    "def generateDisk(galaxySize):\n",
    "    length = np.sqrt(np.random.uniform(0, 1, galaxySize))\n",
    "    angle = np.pi * np.random.uniform(0, 2,galaxySize)\n",
    "    x = length * np.cos(angle)\n",
    "    y = length * np.sin(angle)\n",
    "    z = np.random.uniform(-1, 1, galaxySize)\n",
    "    return list(zip(x,y,z))\n"
   ]
  },
  {
   "cell_type": "code",
   "execution_count": 2,
   "metadata": {},
   "outputs": [],
   "source": [
    "a,b = generateDiskGalaxy(10,10)"
   ]
  },
  {
   "cell_type": "code",
   "execution_count": 3,
   "metadata": {},
   "outputs": [
    {
     "data": {
      "text/plain": [
       "[-3.335400946627125,\n",
       " 7.536958421198903,\n",
       " 14.374177074039292,\n",
       " 7.91533660610893,\n",
       " 3.8636269067745777,\n",
       " -0.45712057962741914,\n",
       " -7.415104156209809,\n",
       " 5.748498125146318,\n",
       " 4.811529543764123,\n",
       " 11.798167962209202]"
      ]
     },
     "execution_count": 3,
     "metadata": {},
     "output_type": "execute_result"
    }
   ],
   "source": [
    "b"
   ]
  },
  {
   "cell_type": "code",
   "execution_count": 4,
   "metadata": {},
   "outputs": [
    {
     "data": {
      "text/plain": [
       "array([0.62588492, 0.9409046 , 0.87149398, 0.97905427, 1.04236171,\n",
       "       0.96069805, 1.11394462, 0.41717104, 0.80581482, 0.51289802])"
      ]
     },
     "execution_count": 4,
     "metadata": {},
     "output_type": "execute_result"
    }
   ],
   "source": [
    "np.linalg.norm(np.zeros_like(generateDisk(10))-generateDisk(10),axis=1)"
   ]
  },
  {
   "cell_type": "code",
   "execution_count": 5,
   "metadata": {},
   "outputs": [],
   "source": [
    "from Galaxy import Galaxy"
   ]
  },
  {
   "cell_type": "code",
   "execution_count": 6,
   "metadata": {},
   "outputs": [],
   "source": [
    "a = Galaxy()"
   ]
  },
  {
   "cell_type": "code",
   "execution_count": 7,
   "metadata": {},
   "outputs": [
    {
     "data": {
      "text/plain": [
       "({'0': <Probe.Probe at 0x101b064e0>}, False, 0)"
      ]
     },
     "execution_count": 7,
     "metadata": {},
     "output_type": "execute_result"
    }
   ],
   "source": [
    "a.step({\"0\":[\"stay\",0]})"
   ]
  },
  {
   "cell_type": "code",
   "execution_count": 8,
   "metadata": {},
   "outputs": [
    {
     "ename": "NameError",
     "evalue": "name 'System' is not defined",
     "output_type": "error",
     "traceback": [
      "\u001b[0;31m---------------------------------------------------------------------------\u001b[0m",
      "\u001b[0;31mNameError\u001b[0m                                 Traceback (most recent call last)",
      "\u001b[0;32m<ipython-input-8-9c110ff59fd7>\u001b[0m in \u001b[0;36m<module>\u001b[0;34m\u001b[0m\n\u001b[0;32m----> 1\u001b[0;31m \u001b[0mSystem\u001b[0m\u001b[0;34m.\u001b[0m\u001b[0mSystem\u001b[0m\u001b[0;34m(\u001b[0m\u001b[0;34m)\u001b[0m\u001b[0;34m\u001b[0m\u001b[0m\n\u001b[0m",
      "\u001b[0;31mNameError\u001b[0m: name 'System' is not defined"
     ]
    }
   ],
   "source": [
    "System.System()"
   ]
  },
  {
   "cell_type": "code",
   "execution_count": null,
   "metadata": {},
   "outputs": [],
   "source": []
  }
 ],
 "metadata": {
  "kernelspec": {
   "display_name": "Python 3",
   "language": "python",
   "name": "python3"
  },
  "language_info": {
   "codemirror_mode": {
    "name": "ipython",
    "version": 3
   },
   "file_extension": ".py",
   "mimetype": "text/x-python",
   "name": "python",
   "nbconvert_exporter": "python",
   "pygments_lexer": "ipython3",
   "version": "3.6.5"
  }
 },
 "nbformat": 4,
 "nbformat_minor": 2
}
