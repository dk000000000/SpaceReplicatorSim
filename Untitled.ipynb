{
 "cells": [
  {
   "cell_type": "code",
   "execution_count": 1,
   "metadata": {},
   "outputs": [],
   "source": [
    "import numpy as np\n",
    "def generateDiskGalaxy(galaxySize,maxcharge):\n",
    "    positions = generateDisk(galaxySize)\n",
    "    charges = generateCharge(positions,maxcharge)\n",
    "    return positions,charges\n",
    "\n",
    "def generateCharge(positions,maxcharge):\n",
    "    origins = np.zeros_like(positions)\n",
    "    distances = np.linalg.norm(positions-origins,axis=1) #calculate distance to the origin\n",
    "    charges = [maxcharge*np.random.normal(d) for d in distances] # more close more likely to have a high charge\n",
    "    return charges\n",
    "\n",
    "\n",
    "def generateDisk(galaxySize):\n",
    "    length = np.sqrt(np.random.uniform(0, 1, galaxySize))\n",
    "    angle = np.pi * np.random.uniform(0, 2,galaxySize)\n",
    "    x = length * np.cos(angle)\n",
    "    y = length * np.sin(angle)\n",
    "    z = np.random.uniform(-1, 1, galaxySize)\n",
    "    return list(zip(x,y,z))\n"
   ]
  },
  {
   "cell_type": "code",
   "execution_count": 2,
   "metadata": {},
   "outputs": [],
   "source": [
    "a,b = generateDiskGalaxy(10,10)"
   ]
  },
  {
   "cell_type": "code",
   "execution_count": 3,
   "metadata": {},
   "outputs": [
    {
     "data": {
      "text/plain": [
       "[29.26317501560856,\n",
       " 10.298097779976104,\n",
       " 12.945257757546218,\n",
       " 4.640283740685298,\n",
       " 12.669490118466435,\n",
       " 11.683327318009828,\n",
       " 16.753986862250592,\n",
       " 2.0748287380543182,\n",
       " 21.817488964213325,\n",
       " 4.929093720543146]"
      ]
     },
     "execution_count": 3,
     "metadata": {},
     "output_type": "execute_result"
    }
   ],
   "source": [
    "b"
   ]
  },
  {
   "cell_type": "code",
   "execution_count": 4,
   "metadata": {},
   "outputs": [
    {
     "data": {
      "text/plain": [
       "array([0.96416079, 0.4593295 , 1.07908471, 0.72517211, 0.98981878,\n",
       "       1.10497036, 1.10402875, 0.93028792, 1.19232614, 0.98610644])"
      ]
     },
     "execution_count": 4,
     "metadata": {},
     "output_type": "execute_result"
    }
   ],
   "source": [
    "np.linalg.norm(np.zeros_like(generateDisk(10))-generateDisk(10),axis=1)"
   ]
  },
  {
   "cell_type": "code",
   "execution_count": 5,
   "metadata": {},
   "outputs": [],
   "source": [
    "from scipy.spatial.distance import cdist\n"
   ]
  },
  {
   "cell_type": "code",
   "execution_count": 6,
   "metadata": {},
   "outputs": [],
   "source": [
    "x = np.array([[2,1],[1,1]])\n",
    "y = np.array([[1,0], [2,3], [4,3]])\n",
    "\n"
   ]
  },
  {
   "cell_type": "code",
   "execution_count": 7,
   "metadata": {},
   "outputs": [
    {
     "data": {
      "text/plain": [
       "array([[1.41421356, 2.        , 2.82842712],\n",
       "       [1.        , 2.23606798, 3.60555128]])"
      ]
     },
     "execution_count": 7,
     "metadata": {},
     "output_type": "execute_result"
    }
   ],
   "source": [
    "cdist(x,y)"
   ]
  },
  {
   "cell_type": "code",
   "execution_count": 8,
   "metadata": {},
   "outputs": [],
   "source": [
    "from Galaxy import Galaxy"
   ]
  },
  {
   "cell_type": "code",
   "execution_count": 9,
   "metadata": {},
   "outputs": [],
   "source": [
    "a = Galaxy()"
   ]
  },
  {
   "cell_type": "code",
   "execution_count": null,
   "metadata": {},
   "outputs": [],
   "source": [
    "a.step({\"0\":[\"stay\",0]})"
   ]
  }
 ],
 "metadata": {
  "kernelspec": {
   "display_name": "Python 3",
   "language": "python",
   "name": "python3"
  },
  "language_info": {
   "codemirror_mode": {
    "name": "ipython",
    "version": 3
   },
   "file_extension": ".py",
   "mimetype": "text/x-python",
   "name": "python",
   "nbconvert_exporter": "python",
   "pygments_lexer": "ipython3",
   "version": "3.6.5"
  }
 },
 "nbformat": 4,
 "nbformat_minor": 2
}
